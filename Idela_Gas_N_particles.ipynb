{
  "nbformat": 4,
  "nbformat_minor": 0,
  "metadata": {
    "colab": {
      "name": "Idela_Gas_N_particles.ipynb",
      "provenance": [],
      "authorship_tag": "ABX9TyNuWrJmFMXsRvLbgN6Ted2r",
      "include_colab_link": true
    },
    "kernelspec": {
      "name": "python3",
      "display_name": "Python 3"
    }
  },
  "cells": [
    {
      "cell_type": "markdown",
      "metadata": {
        "id": "view-in-github",
        "colab_type": "text"
      },
      "source": [
        "<a href=\"https://colab.research.google.com/github/6arlos6/Ideal_Gas/blob/main/Idela_Gas_N_particles.ipynb\" target=\"_parent\"><img src=\"https://colab.research.google.com/assets/colab-badge.svg\" alt=\"Open In Colab\"/></a>"
      ]
    },
    {
      "cell_type": "markdown",
      "metadata": {
        "id": "MN1j_YSyhqKg"
      },
      "source": [
        "# Cargar librerias:\n",
        "\n"
      ]
    },
    {
      "cell_type": "code",
      "metadata": {
        "id": "fpWlxdgIhErH"
      },
      "source": [
        "import numpy as np\n",
        "import matplotlib.pyplot as plt\n",
        "import matplotlib.patches as patches\n",
        "import matplotlib.animation as animation\n",
        "\n",
        "import scipy.stats as stats\n",
        "import scipy.io"
      ],
      "execution_count": null,
      "outputs": []
    },
    {
      "cell_type": "markdown",
      "metadata": {
        "id": "0YkxH2rph3G_"
      },
      "source": [
        "# Definir Clase < Particle > :"
      ]
    },
    {
      "cell_type": "code",
      "metadata": {
        "id": "BFqPEfYahMIs"
      },
      "source": [
        "class Particle:\n",
        "  def __init__(self, mass, radius, position, velocity):\n",
        "    self.mass = mass\n",
        "    self.radius = radius\n",
        "    self.position = position\n",
        "    self.velocity = velocity"
      ],
      "execution_count": null,
      "outputs": []
    },
    {
      "cell_type": "markdown",
      "metadata": {
        "id": "MOPEZlx0mj-G"
      },
      "source": [
        "# Constantes y tiempo:"
      ]
    },
    {
      "cell_type": "code",
      "metadata": {
        "id": "b91Dj_HbmpgS"
      },
      "source": [
        "# Constantes:\n",
        "\n",
        "N = 50\n",
        "\n",
        "inferior_box = -20\n",
        "superior_box = 20\n",
        "\n",
        "Ra = -1.\n",
        "Rb = 15.\n",
        "\n",
        "r0 = 0.2\n",
        "R = 2\n",
        "mu, sigma = 0., 15.\n",
        "m = 0.01\n",
        "\n",
        "FPS = 10\n",
        "\n",
        "# Tiempo:\n",
        "\n",
        "Dt = 0.001\n",
        "time = np.arange(0,30.0,Dt)"
      ],
      "execution_count": null,
      "outputs": []
    },
    {
      "cell_type": "markdown",
      "metadata": {
        "id": "NBpUF_6GiBdy"
      },
      "source": [
        "# Condiciones Iniciales ( $ \\mathbf{r}_{i}(0)$ , $\\mathbf{v}_{i}(0)$):"
      ]
    },
    {
      "cell_type": "markdown",
      "metadata": {
        "id": "hZFYz1wqiqoU"
      },
      "source": [
        "## Funcion para def. $ \\mathbf{r}_{i}(0)$ sin solapes:"
      ]
    },
    {
      "cell_type": "code",
      "metadata": {
        "id": "yStXERQqho_O"
      },
      "source": [
        "def initial_pos(N, r0, R, a, b):\n",
        "# N := Numero de particulas.\n",
        "# r0 := radio de las particulas.\n",
        "# R := Dimension del sistema.\n",
        "# s:= Rango maximo de volumen.\n",
        "  r = np.zeros((N,R))\n",
        "  for i in range(1,N):\n",
        "    band0 = 1\n",
        "    while band0 >= 1:\n",
        "      band0 = 0\n",
        "      rt = (b-a)*np.random.rand(1,R) + a\n",
        "      for j in range(0, i):\n",
        "        rij = np.linalg.norm(rt - r[j])\n",
        "        if rij <= 2*r0:\n",
        "          band0 +=1\n",
        "    r[i] = rt\n",
        "  return r"
      ],
      "execution_count": null,
      "outputs": []
    },
    {
      "cell_type": "markdown",
      "metadata": {
        "id": "_wiXr0e6kPOq"
      },
      "source": [
        "## Definir ensemble + C.I."
      ]
    },
    {
      "cell_type": "code",
      "metadata": {
        "id": "eDD03vcvkNia"
      },
      "source": [
        "Ensemble_Particles = []\n",
        "\n",
        "R0 = initial_pos(N, r0, R, Ra, Rb)\n",
        "\n",
        "for i in range(0,N):\n",
        "  zpi = np.zeros([len(time),R])\n",
        "  zpi[0] = R0[i]\n",
        "  zvi = np.zeros([len(time),R])\n",
        "  zvi[0] = np.random.normal(mu, sigma, [R])\n",
        "  Ensemble_Particles.append(Particle(m, r0, zpi, zvi))\n"
      ],
      "execution_count": null,
      "outputs": []
    },
    {
      "cell_type": "markdown",
      "metadata": {
        "id": "fUykmTLSoAmh"
      },
      "source": [
        "# Eventos - Interacciones:"
      ]
    },
    {
      "cell_type": "markdown",
      "metadata": {
        "id": "Tw3zbsb-o7a1"
      },
      "source": [
        "## Función de choque con paredes:"
      ]
    },
    {
      "cell_type": "code",
      "metadata": {
        "id": "g1ca-7AepBeE"
      },
      "source": [
        "def isWall(p,n,m,r,i):\n",
        "\n",
        "\ttf1 = 0\n",
        "\ttf2 = 0\n",
        "\n",
        "\tif p.position[i,1] < (n + r) or p.position[i,1] >= m - r:\n",
        "\t\tp.velocity[i,1] = -p.velocity[i,1]\n",
        "\t\tp.velocity[i+1] = p.velocity[i]\n",
        "\t\ttf1 = 1\n",
        "\n",
        "\tif p.position[i,0] < (n + r) or p.position[i,0] >= m - r:\n",
        "\t\tp.velocity[i,0] = -p.velocity[i,0]\n",
        "\t\tp.velocity[i+1] = p.velocity[i]\n",
        "\t\ttf2 = 1\n",
        "\n",
        "\tif tf1 == 0 and tf2 == 0:\n",
        "\t\tp.velocity[i+1] = p.velocity[i]\n",
        "\n",
        "\treturn p"
      ],
      "execution_count": null,
      "outputs": []
    },
    {
      "cell_type": "markdown",
      "metadata": {
        "id": "b4zUMhxnwCBd"
      },
      "source": [
        "## Función de colición entre particulas:"
      ]
    },
    {
      "cell_type": "code",
      "metadata": {
        "id": "6op7d0NDwAcc"
      },
      "source": [
        "def isCollision(p1,p2,i):\n",
        "\n",
        "\t# i = 1 ---- j = 2\n",
        "\n",
        "\ta = (p1.position[i,0] - p2.position[i,0])**2\n",
        "\tb = (p1.position[i,1] - p2.position[i,1])**2\n",
        "\td = np.sqrt(a + b)\n",
        "\n",
        "\tif d < (p1.radius + p2.radius)**1.1:\n",
        "\t\trij = (p1.position[i] - p2.position[i])/(d)\n",
        "\t\tA = -2*((p1.mass*p2.mass)/(p1.mass + p2.mass))\n",
        "\t\tB = p1.velocity[i] - p2.velocity[i]\n",
        "\t\tC = np.dot(B, rij)\n",
        "\t\tq = (A*C)*rij\n",
        "\t\tp1.velocity[i] = p1.velocity[i] + q/p1.mass\n",
        "\t\tp1.velocity[i+1] = p1.velocity[i]\n",
        "\t\tp2.velocity[i] = p2.velocity[i] - q/p2.mass\n",
        "\t\tp2.velocity[i+1] = p2.velocity[i]\n",
        "\n",
        "\treturn p1, p2"
      ],
      "execution_count": null,
      "outputs": []
    },
    {
      "cell_type": "markdown",
      "metadata": {
        "id": "IFd4hyyIwV9g"
      },
      "source": [
        "# Evolución temporal ( $ \\mathbf{r}_{i}(t)$ , $\\mathbf{v}_{i}(t)$):"
      ]
    },
    {
      "cell_type": "code",
      "metadata": {
        "id": "s9M0f2DdwiJY"
      },
      "source": [
        "for i in range(0,len(time)-1):\n",
        "  print('time = {} [s] \\n'.format(time[i]))\n",
        "\n",
        "  for j in range(0,N):\n",
        "    pj = Ensemble_Particles[j]\n",
        "    pj = isWall(pj, inferior_box, superior_box, pj.radius, i)\n",
        "    Ensemble_Particles[j] = pj\n",
        "\n",
        "  for ki in range(0,N):\n",
        "    for kj in range(ki+1,N):\n",
        "      pki = Ensemble_Particles[ki]\n",
        "      pkj = Ensemble_Particles[kj]\n",
        "      pki, pkj = isCollision(pki,pkj,i)\n",
        "      Ensemble_Particles[ki] = pki\n",
        "      Ensemble_Particles[kj] = pkj\n",
        "\n",
        "  for j in range(0,N):\n",
        "    pj = Ensemble_Particles[j]\n",
        "    pj.position[i+1] = pj.position[i] + pj.velocity[i]*Dt\n",
        "    Ensemble_Particles[j] = pj"
      ],
      "execution_count": null,
      "outputs": []
    },
    {
      "cell_type": "code",
      "metadata": {
        "id": "KhH7ab-SMeGc"
      },
      "source": [
        "Speed = []\n",
        "for j in range(0,N):\n",
        "  pj = Ensemble_Particles[j]\n",
        "  v = pj.velocity\n",
        "  Speed.append(v)\n",
        "\n",
        "Speed = np.array(Speed )\n",
        "name = 'speed' + str(N) + '.mat'\n",
        "scipy.io.savemat(name, {'Speed': Speed})"
      ],
      "execution_count": null,
      "outputs": []
    },
    {
      "cell_type": "markdown",
      "metadata": {
        "id": "-yKXzDT3DZkh"
      },
      "source": [
        "# Distribución de Boltzman < velocidades $f(v)$ >  :\n",
        "\n",
        "\n",
        "\n",
        "\n"
      ]
    },
    {
      "cell_type": "code",
      "metadata": {
        "id": "XUCNiz4I5A1Q"
      },
      "source": [
        "#Fitting function\n",
        "from scipy.optimize import curve_fit\n",
        "\n",
        "def func(v, A):\n",
        "  p = A*v*np.exp(-(A*v**2)/(2))\n",
        "  return p\n",
        "\n",
        "Ao = 14.\n",
        "\n",
        "\n",
        " "
      ],
      "execution_count": null,
      "outputs": []
    },
    {
      "cell_type": "code",
      "metadata": {
        "id": "dbmAYSuyDj5K"
      },
      "source": [
        "V = []\n",
        "\n",
        "for j in range(0,N):\n",
        "  pj = Ensemble_Particles[j]\n",
        "  v = pj.velocity[-1]\n",
        "  vm = np.sqrt(v[0]**2 + v[1]**2)\n",
        "  V.append(vm)\n",
        "\n",
        "V = np.round(V, 1)\n",
        "Vl = V.tolist()\n",
        "Vs = set(Vl)\n",
        "VL = list(Vs)\n",
        "\n",
        "Vv = []\n",
        "for i in range(0,len(VL)):\n",
        "  n = np.where(V == VL[i])\n",
        "  Vv.append(len(n[0]))\n",
        "print(VL)\n",
        "print(Vv)\n",
        "\n",
        "params = stats.maxwell.fit(V, floc=0)\n",
        "print(params)\n",
        "\n",
        "A = plt.hist(V,len(V), facecolor='g', alpha=0.3, density=True)\n",
        "print(A[1])\n",
        "\n",
        "x = np.linspace(0, 60, 100)\n",
        "plt.plot(A[0],A[1])\n",
        "#plt.plot(x, stats.maxwell.pdf(x, *params), lw=3)\n",
        "\n",
        "plt.grid()\n",
        "plt.xlabel('speed')\n",
        "plt.ylabel('N particles')\n",
        "plt.show()\n",
        "\n",
        "    "
      ],
      "execution_count": null,
      "outputs": []
    },
    {
      "cell_type": "code",
      "metadata": {
        "id": "f387-uSevVxz",
        "colab": {
          "base_uri": "https://localhost:8080/",
          "height": 265
        },
        "outputId": "3f4adeae-f199-4710-fbbc-3a6776949e59"
      },
      "source": [
        "fig = plt.figure()\n",
        "ax = fig.gca()\n",
        "\n",
        "def actualizar(i):\n",
        "  i = i*FPS\n",
        "  ax.clear()\n",
        "  V = []\n",
        "  for j in range(0,N):\n",
        "    pj = Ensemble_Particles[j]\n",
        "    v = pj.velocity[i]\n",
        "    vm = np.sqrt(v[0]**2 + v[1]**2)\n",
        "    V.append(vm)\n",
        "  V = np.round(V, 1)\n",
        "  plt.hist(V,45, facecolor='g', alpha=0.3, density=True)\n",
        " \n",
        "ani = animation.FuncAnimation(fig, \n",
        "\t\t\t\t\t\t\tfunc = actualizar, \n",
        "\t\t\t\t\t\t\tframes = int(len(time)/FPS),\n",
        "\t\t\t\t\t\t  blit=False, \n",
        "\t\t\t\t\t\t\trepeat=True)\n",
        "\n",
        "ani.save('Histogram_speed.gif', writer = \"pillow\", fps=10)"
      ],
      "execution_count": null,
      "outputs": [
        {
          "output_type": "display_data",
          "data": {
            "image/png": "[encoded data removed]",
            "text/plain": [
              "<Figure size 432x288 with 1 Axes>"
            ]
          },
          "metadata": {
            "needs_background": "light"
          }
        }
      ]
    },
    {
      "cell_type": "markdown",
      "metadata": {
        "id": "xOaD5k1Z1rkX"
      },
      "source": [
        "# Animación:"
      ]
    },
    {
      "cell_type": "code",
      "metadata": {
        "id": "CIPEWi2g1wZm",
        "colab": {
          "base_uri": "https://localhost:8080/",
          "height": 269
        },
        "outputId": "c2fe39b0-18f3-4a8c-af20-d303a2928524"
      },
      "source": [
        "fig = plt.figure()\n",
        "ax = fig.gca()\n",
        "\n",
        "def actualizar(i):\n",
        "  i = i*FPS\n",
        "  ax.clear()\n",
        "  ax.set_aspect(\"equal\", adjustable=\"datalim\")\n",
        "  ax.set_xlim(inferior_box -2, superior_box)\n",
        "  ax.set_ylim(inferior_box -2 , superior_box)\n",
        "  ax.add_patch(\n",
        "      patches.Rectangle((inferior_box, inferior_box),\n",
        "                        superior_box-inferior_box, superior_box-inferior_box,\n",
        "                        edgecolor='black', facecolor=\"none\"))\n",
        "  AB = []\n",
        "  for j in range(0,N):\n",
        "    pj = Ensemble_Particles[j]\n",
        "    aj = pj.position[i,0]\n",
        "    bj = pj.position[i,1]\n",
        "    ax.add_patch(plt.Circle((aj,bj), pj.radius))\n",
        "    plt.scatter(pj.position[i,0],pj.position[i,1],s=(pj.radius),c='b')\n",
        "    AB.append((aj,bj))\n",
        " \n",
        "ani = animation.FuncAnimation(fig, \n",
        "\t\t\t\t\t\t\tfunc = actualizar, \n",
        "\t\t\t\t\t\t\tframes = int(len(time)/FPS),\n",
        "\t\t\t\t\t\t  blit=False, \n",
        "\t\t\t\t\t\t\trepeat=True)\n",
        "\n",
        "ani.save('Ideal_gas.gif', writer = \"pillow\", fps=10)"
      ],
      "execution_count": null,
      "outputs": [
        {
          "output_type": "display_data",
          "data": {
            "image/png": "[encoded data removed]",
            "text/plain": [
              "<Figure size 432x288 with 1 Axes>"
            ]
          },
          "metadata": {
            "tags": [],
            "needs_background": "light"
          }
        }
      ]
    }
  ]
}